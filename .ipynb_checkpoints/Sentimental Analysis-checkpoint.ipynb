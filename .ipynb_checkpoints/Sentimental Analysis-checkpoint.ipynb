{
 "cells": [
  {
   "cell_type": "markdown",
   "id": "5973f174-2531-44c6-90ac-b335d8dc83b4",
   "metadata": {},
   "source": [
    "## Sentimental Analysis"
   ]
  },
  {
   "cell_type": "markdown",
   "id": "82ed3498-ae52-4e4b-9878-5ff9e75cbd57",
   "metadata": {},
   "source": [
    "### EDA"
   ]
  },
  {
   "cell_type": "code",
   "execution_count": 2,
   "id": "d091607a-f38c-4b37-9045-03316aeb339b",
   "metadata": {},
   "outputs": [],
   "source": [
    "import pandas as pd"
   ]
  },
  {
   "cell_type": "code",
   "execution_count": 3,
   "id": "b0b5705a-1f60-4a64-a1cc-63e6b3318d51",
   "metadata": {},
   "outputs": [],
   "source": [
    "df = pd.read_csv(\"train.csv\" ,encoding='iso-8859-1')"
   ]
  },
  {
   "cell_type": "code",
   "execution_count": 4,
   "id": "c3876f8c-f589-4262-b281-1ac7ae9ccbcc",
   "metadata": {},
   "outputs": [
    {
     "data": {
      "text/html": [
       "<div>\n",
       "<style scoped>\n",
       "    .dataframe tbody tr th:only-of-type {\n",
       "        vertical-align: middle;\n",
       "    }\n",
       "\n",
       "    .dataframe tbody tr th {\n",
       "        vertical-align: top;\n",
       "    }\n",
       "\n",
       "    .dataframe thead th {\n",
       "        text-align: right;\n",
       "    }\n",
       "</style>\n",
       "<table border=\"1\" class=\"dataframe\">\n",
       "  <thead>\n",
       "    <tr style=\"text-align: right;\">\n",
       "      <th></th>\n",
       "      <th>polarity of tweet</th>\n",
       "      <th>id of the tweet</th>\n",
       "      <th>date of the tweet</th>\n",
       "      <th>query</th>\n",
       "      <th>user</th>\n",
       "      <th>text of the tweet</th>\n",
       "    </tr>\n",
       "  </thead>\n",
       "  <tbody>\n",
       "    <tr>\n",
       "      <th>0</th>\n",
       "      <td>0</td>\n",
       "      <td>1467810672</td>\n",
       "      <td>Mon Apr 06 22:19:49 PDT 2009</td>\n",
       "      <td>NO_QUERY</td>\n",
       "      <td>scotthamilton</td>\n",
       "      <td>is upset that he can't update his Facebook by ...</td>\n",
       "    </tr>\n",
       "    <tr>\n",
       "      <th>1</th>\n",
       "      <td>0</td>\n",
       "      <td>1467810917</td>\n",
       "      <td>Mon Apr 06 22:19:53 PDT 2009</td>\n",
       "      <td>NO_QUERY</td>\n",
       "      <td>mattycus</td>\n",
       "      <td>@Kenichan I dived many times for the ball. Man...</td>\n",
       "    </tr>\n",
       "    <tr>\n",
       "      <th>2</th>\n",
       "      <td>0</td>\n",
       "      <td>1467811184</td>\n",
       "      <td>Mon Apr 06 22:19:57 PDT 2009</td>\n",
       "      <td>NO_QUERY</td>\n",
       "      <td>ElleCTF</td>\n",
       "      <td>my whole body feels itchy and like its on fire</td>\n",
       "    </tr>\n",
       "    <tr>\n",
       "      <th>3</th>\n",
       "      <td>0</td>\n",
       "      <td>1467811193</td>\n",
       "      <td>Mon Apr 06 22:19:57 PDT 2009</td>\n",
       "      <td>NO_QUERY</td>\n",
       "      <td>Karoli</td>\n",
       "      <td>@nationwideclass no, it's not behaving at all....</td>\n",
       "    </tr>\n",
       "    <tr>\n",
       "      <th>4</th>\n",
       "      <td>0</td>\n",
       "      <td>1467811372</td>\n",
       "      <td>Mon Apr 06 22:20:00 PDT 2009</td>\n",
       "      <td>NO_QUERY</td>\n",
       "      <td>joy_wolf</td>\n",
       "      <td>@Kwesidei not the whole crew</td>\n",
       "    </tr>\n",
       "  </tbody>\n",
       "</table>\n",
       "</div>"
      ],
      "text/plain": [
       "   polarity of tweet   id of the tweet             date of the tweet  \\\n",
       "0                   0       1467810672  Mon Apr 06 22:19:49 PDT 2009   \n",
       "1                   0       1467810917  Mon Apr 06 22:19:53 PDT 2009   \n",
       "2                   0       1467811184  Mon Apr 06 22:19:57 PDT 2009   \n",
       "3                   0       1467811193  Mon Apr 06 22:19:57 PDT 2009   \n",
       "4                   0       1467811372  Mon Apr 06 22:20:00 PDT 2009   \n",
       "\n",
       "      query           user                                 text of the tweet   \n",
       "0  NO_QUERY  scotthamilton  is upset that he can't update his Facebook by ...  \n",
       "1  NO_QUERY       mattycus  @Kenichan I dived many times for the ball. Man...  \n",
       "2  NO_QUERY        ElleCTF    my whole body feels itchy and like its on fire   \n",
       "3  NO_QUERY         Karoli  @nationwideclass no, it's not behaving at all....  \n",
       "4  NO_QUERY       joy_wolf                      @Kwesidei not the whole crew   "
      ]
     },
     "execution_count": 4,
     "metadata": {},
     "output_type": "execute_result"
    }
   ],
   "source": [
    "df.head()"
   ]
  },
  {
   "cell_type": "code",
   "execution_count": 5,
   "id": "122b80e8-7679-4569-9b52-59efed064739",
   "metadata": {},
   "outputs": [
    {
     "name": "stdout",
     "output_type": "stream",
     "text": [
      "<class 'pandas.core.frame.DataFrame'>\n",
      "RangeIndex: 1048572 entries, 0 to 1048571\n",
      "Data columns (total 6 columns):\n",
      " #   Column              Non-Null Count    Dtype \n",
      "---  ------              --------------    ----- \n",
      " 0   polarity of tweet   1048572 non-null  int64 \n",
      " 1   id of the tweet     1048572 non-null  int64 \n",
      " 2   date of the tweet   1048572 non-null  object\n",
      " 3   query               1048572 non-null  object\n",
      " 4   user                1048572 non-null  object\n",
      " 5   text of the tweet   1048572 non-null  object\n",
      "dtypes: int64(2), object(4)\n",
      "memory usage: 48.0+ MB\n"
     ]
    }
   ],
   "source": [
    "df.info()"
   ]
  },
  {
   "cell_type": "code",
   "execution_count": 6,
   "id": "b5349435-01cb-4c5b-b659-64038a56c5cb",
   "metadata": {},
   "outputs": [
    {
     "data": {
      "text/html": [
       "<div>\n",
       "<style scoped>\n",
       "    .dataframe tbody tr th:only-of-type {\n",
       "        vertical-align: middle;\n",
       "    }\n",
       "\n",
       "    .dataframe tbody tr th {\n",
       "        vertical-align: top;\n",
       "    }\n",
       "\n",
       "    .dataframe thead th {\n",
       "        text-align: right;\n",
       "    }\n",
       "</style>\n",
       "<table border=\"1\" class=\"dataframe\">\n",
       "  <thead>\n",
       "    <tr style=\"text-align: right;\">\n",
       "      <th></th>\n",
       "      <th>polarity of tweet</th>\n",
       "      <th>id of the tweet</th>\n",
       "    </tr>\n",
       "  </thead>\n",
       "  <tbody>\n",
       "    <tr>\n",
       "      <th>count</th>\n",
       "      <td>1.048572e+06</td>\n",
       "      <td>1.048572e+06</td>\n",
       "    </tr>\n",
       "    <tr>\n",
       "      <th>mean</th>\n",
       "      <td>9.482458e-01</td>\n",
       "      <td>1.976168e+09</td>\n",
       "    </tr>\n",
       "    <tr>\n",
       "      <th>std</th>\n",
       "      <td>1.701122e+00</td>\n",
       "      <td>2.300567e+08</td>\n",
       "    </tr>\n",
       "    <tr>\n",
       "      <th>min</th>\n",
       "      <td>0.000000e+00</td>\n",
       "      <td>1.467811e+09</td>\n",
       "    </tr>\n",
       "    <tr>\n",
       "      <th>25%</th>\n",
       "      <td>0.000000e+00</td>\n",
       "      <td>1.824526e+09</td>\n",
       "    </tr>\n",
       "    <tr>\n",
       "      <th>50%</th>\n",
       "      <td>0.000000e+00</td>\n",
       "      <td>1.990870e+09</td>\n",
       "    </tr>\n",
       "    <tr>\n",
       "      <th>75%</th>\n",
       "      <td>0.000000e+00</td>\n",
       "      <td>2.198903e+09</td>\n",
       "    </tr>\n",
       "    <tr>\n",
       "      <th>max</th>\n",
       "      <td>4.000000e+00</td>\n",
       "      <td>2.329206e+09</td>\n",
       "    </tr>\n",
       "  </tbody>\n",
       "</table>\n",
       "</div>"
      ],
      "text/plain": [
       "       polarity of tweet   id of the tweet\n",
       "count        1.048572e+06     1.048572e+06\n",
       "mean         9.482458e-01     1.976168e+09\n",
       "std          1.701122e+00     2.300567e+08\n",
       "min          0.000000e+00     1.467811e+09\n",
       "25%          0.000000e+00     1.824526e+09\n",
       "50%          0.000000e+00     1.990870e+09\n",
       "75%          0.000000e+00     2.198903e+09\n",
       "max          4.000000e+00     2.329206e+09"
      ]
     },
     "execution_count": 6,
     "metadata": {},
     "output_type": "execute_result"
    }
   ],
   "source": [
    "df.describe()"
   ]
  },
  {
   "cell_type": "code",
   "execution_count": 7,
   "id": "c7c264bd-3738-4c86-a1a8-bb63b6b7702a",
   "metadata": {},
   "outputs": [
    {
     "data": {
      "text/plain": [
       "(1048572, 6)"
      ]
     },
     "execution_count": 7,
     "metadata": {},
     "output_type": "execute_result"
    }
   ],
   "source": [
    "df.shape"
   ]
  },
  {
   "cell_type": "markdown",
   "id": "7c13e0f3-1c1b-4802-a8a1-3a277308a7e7",
   "metadata": {},
   "source": [
    "#### Missing Values"
   ]
  },
  {
   "cell_type": "code",
   "execution_count": 8,
   "id": "f9490f93-aa5a-4513-afa8-d8de151191c7",
   "metadata": {},
   "outputs": [
    {
     "data": {
      "text/plain": [
       "[]"
      ]
     },
     "execution_count": 8,
     "metadata": {},
     "output_type": "execute_result"
    }
   ],
   "source": [
    "[feature for feature in df.columns if df[feature].isnull().sum()>=1]"
   ]
  },
  {
   "cell_type": "markdown",
   "id": "93bd56cc-ec01-48f5-b7d1-1555430b91e0",
   "metadata": {},
   "source": [
    "#### Insights from dataset"
   ]
  },
  {
   "cell_type": "code",
   "execution_count": 9,
   "id": "11261645-f866-4172-92a8-69ffb02a5406",
   "metadata": {},
   "outputs": [
    {
     "name": "stdout",
     "output_type": "stream",
     "text": [
      "Index(['polarity of tweet ', 'id of the tweet', 'date of the tweet', 'query',\n",
      "       'user', 'text of the tweet '],\n",
      "      dtype='object')\n"
     ]
    }
   ],
   "source": [
    "print(df.columns)\n",
    "df.columns = df.columns.str.strip()"
   ]
  },
  {
   "cell_type": "code",
   "execution_count": 10,
   "id": "30459021-b67e-40ac-9c63-ddc65793e7fe",
   "metadata": {},
   "outputs": [
    {
     "data": {
      "text/plain": [
       "polarity of tweet\n",
       "0    799996\n",
       "4    248576\n",
       "Name: count, dtype: int64"
      ]
     },
     "execution_count": 10,
     "metadata": {},
     "output_type": "execute_result"
    }
   ],
   "source": [
    "# different classes of target label\n",
    "df['polarity of tweet'].value_counts()"
   ]
  },
  {
   "cell_type": "code",
   "execution_count": 11,
   "id": "fb6927aa-b112-4735-96a9-7a6a999b1754",
   "metadata": {},
   "outputs": [
    {
     "data": {
      "text/html": [
       "<div>\n",
       "<style scoped>\n",
       "    .dataframe tbody tr th:only-of-type {\n",
       "        vertical-align: middle;\n",
       "    }\n",
       "\n",
       "    .dataframe tbody tr th {\n",
       "        vertical-align: top;\n",
       "    }\n",
       "\n",
       "    .dataframe thead th {\n",
       "        text-align: right;\n",
       "    }\n",
       "</style>\n",
       "<table border=\"1\" class=\"dataframe\">\n",
       "  <thead>\n",
       "    <tr style=\"text-align: right;\">\n",
       "      <th></th>\n",
       "      <th>polarity of tweet</th>\n",
       "      <th>id of the tweet</th>\n",
       "      <th>date of the tweet</th>\n",
       "      <th>query</th>\n",
       "      <th>user</th>\n",
       "      <th>text of the tweet</th>\n",
       "    </tr>\n",
       "  </thead>\n",
       "  <tbody>\n",
       "    <tr>\n",
       "      <th>0</th>\n",
       "      <td>0</td>\n",
       "      <td>1467810672</td>\n",
       "      <td>Mon Apr 06 22:19:49 PDT 2009</td>\n",
       "      <td>NO_QUERY</td>\n",
       "      <td>scotthamilton</td>\n",
       "      <td>is upset that he can't update his Facebook by ...</td>\n",
       "    </tr>\n",
       "    <tr>\n",
       "      <th>1</th>\n",
       "      <td>0</td>\n",
       "      <td>1467810917</td>\n",
       "      <td>Mon Apr 06 22:19:53 PDT 2009</td>\n",
       "      <td>NO_QUERY</td>\n",
       "      <td>mattycus</td>\n",
       "      <td>@Kenichan I dived many times for the ball. Man...</td>\n",
       "    </tr>\n",
       "  </tbody>\n",
       "</table>\n",
       "</div>"
      ],
      "text/plain": [
       "   polarity of tweet  id of the tweet             date of the tweet     query  \\\n",
       "0                  0       1467810672  Mon Apr 06 22:19:49 PDT 2009  NO_QUERY   \n",
       "1                  0       1467810917  Mon Apr 06 22:19:53 PDT 2009  NO_QUERY   \n",
       "\n",
       "            user                                  text of the tweet  \n",
       "0  scotthamilton  is upset that he can't update his Facebook by ...  \n",
       "1       mattycus  @Kenichan I dived many times for the ball. Man...  "
      ]
     },
     "execution_count": 11,
     "metadata": {},
     "output_type": "execute_result"
    }
   ],
   "source": [
    "# which columns are not important remove them \n",
    "df.head(2)"
   ]
  },
  {
   "cell_type": "code",
   "execution_count": 12,
   "id": "b2ce11a3-b612-4cd5-b168-b0b357a4be8e",
   "metadata": {},
   "outputs": [],
   "source": [
    "# except polarity of tweet and text of the tweet all other are not important column to us for sentimental analysis\n",
    "df.drop(columns=['id of the tweet' , 'date of the tweet' , 'query' , 'user'],inplace=True)"
   ]
  },
  {
   "cell_type": "code",
   "execution_count": 13,
   "id": "5a0a69a0-9853-4fa7-a02e-e859daf38429",
   "metadata": {},
   "outputs": [
    {
     "data": {
      "text/html": [
       "<div>\n",
       "<style scoped>\n",
       "    .dataframe tbody tr th:only-of-type {\n",
       "        vertical-align: middle;\n",
       "    }\n",
       "\n",
       "    .dataframe tbody tr th {\n",
       "        vertical-align: top;\n",
       "    }\n",
       "\n",
       "    .dataframe thead th {\n",
       "        text-align: right;\n",
       "    }\n",
       "</style>\n",
       "<table border=\"1\" class=\"dataframe\">\n",
       "  <thead>\n",
       "    <tr style=\"text-align: right;\">\n",
       "      <th></th>\n",
       "      <th>polarity of tweet</th>\n",
       "      <th>text of the tweet</th>\n",
       "    </tr>\n",
       "  </thead>\n",
       "  <tbody>\n",
       "    <tr>\n",
       "      <th>0</th>\n",
       "      <td>0</td>\n",
       "      <td>is upset that he can't update his Facebook by ...</td>\n",
       "    </tr>\n",
       "    <tr>\n",
       "      <th>1</th>\n",
       "      <td>0</td>\n",
       "      <td>@Kenichan I dived many times for the ball. Man...</td>\n",
       "    </tr>\n",
       "  </tbody>\n",
       "</table>\n",
       "</div>"
      ],
      "text/plain": [
       "   polarity of tweet                                  text of the tweet\n",
       "0                  0  is upset that he can't update his Facebook by ...\n",
       "1                  0  @Kenichan I dived many times for the ball. Man..."
      ]
     },
     "execution_count": 13,
     "metadata": {},
     "output_type": "execute_result"
    }
   ],
   "source": [
    "df.head(2)"
   ]
  },
  {
   "cell_type": "markdown",
   "id": "924d1ed8-4acf-49b3-9a46-eeff126c3f1d",
   "metadata": {},
   "source": [
    "#### Imbalanced dataset"
   ]
  },
  {
   "cell_type": "code",
   "execution_count": 14,
   "id": "772a2d4b-b734-40fd-8d84-8ad2b495b946",
   "metadata": {},
   "outputs": [
    {
     "data": {
      "text/plain": [
       "polarity of tweet\n",
       "0    799996\n",
       "4    248576\n",
       "Name: count, dtype: int64"
      ]
     },
     "execution_count": 14,
     "metadata": {},
     "output_type": "execute_result"
    }
   ],
   "source": [
    "df['polarity of tweet'].value_counts()"
   ]
  },
  {
   "cell_type": "code",
   "execution_count": 15,
   "id": "2b7ae531-cd7f-42fc-b6bb-f7015e0e2640",
   "metadata": {},
   "outputs": [],
   "source": [
    "# # spliting the data into independent feature and target label\n",
    "# X = df['text of the tweet']\n",
    "# Y = df['polarity of tweet']"
   ]
  },
  {
   "cell_type": "code",
   "execution_count": 16,
   "id": "801978db-85f2-4443-8be9-3cebc08e0a48",
   "metadata": {},
   "outputs": [],
   "source": [
    "# # to balance the dataset \n",
    "# from imblearn.combine import SMOTETomek\n",
    "# smt = SMOTETomek(random_state=42)\n",
    "# X_res, y_res = smt.fit_resample(X, Y)\n",
    "# # ValueError: could not convert string to float: \"is upset that he can't update his Facebook by texting it... and might cry as a result  School today also. Blah!\""
   ]
  },
  {
   "cell_type": "code",
   "execution_count": 17,
   "id": "49e78d49-ce74-4c9c-9c05-b866598576bc",
   "metadata": {},
   "outputs": [],
   "source": [
    "# Y_bal.value_counts()"
   ]
  },
  {
   "cell_type": "code",
   "execution_count": null,
   "id": "c496b409-bdbb-40fb-b7fb-d986e8ce62dc",
   "metadata": {},
   "outputs": [],
   "source": []
  },
  {
   "cell_type": "markdown",
   "id": "4ce351bb-ff66-4a07-9341-46d2133a3bf4",
   "metadata": {},
   "source": [
    "### \n",
    "\n",
    "Machine Learning Algorithm"
   ]
  },
  {
   "cell_type": "code",
   "execution_count": 18,
   "id": "7506915c-89bf-4476-8de2-38c39024eb60",
   "metadata": {},
   "outputs": [],
   "source": [
    "# Supervised Learning -> Neural Network in tensorflow , NLP"
   ]
  },
  {
   "cell_type": "markdown",
   "id": "a92b270d-93ee-4b3f-beb5-41b152548c29",
   "metadata": {},
   "source": [
    "#### Preprocess the text data "
   ]
  },
  {
   "cell_type": "code",
   "execution_count": 19,
   "id": "a39c7f17-390d-4548-8c36-62ca173e41b4",
   "metadata": {},
   "outputs": [],
   "source": [
    "# !pip install nltk"
   ]
  },
  {
   "cell_type": "code",
   "execution_count": 20,
   "id": "965316bb-d645-4bec-9bbe-67a7ec460044",
   "metadata": {},
   "outputs": [
    {
     "data": {
      "text/html": [
       "<div>\n",
       "<style scoped>\n",
       "    .dataframe tbody tr th:only-of-type {\n",
       "        vertical-align: middle;\n",
       "    }\n",
       "\n",
       "    .dataframe tbody tr th {\n",
       "        vertical-align: top;\n",
       "    }\n",
       "\n",
       "    .dataframe thead th {\n",
       "        text-align: right;\n",
       "    }\n",
       "</style>\n",
       "<table border=\"1\" class=\"dataframe\">\n",
       "  <thead>\n",
       "    <tr style=\"text-align: right;\">\n",
       "      <th></th>\n",
       "      <th>polarity of tweet</th>\n",
       "      <th>text of the tweet</th>\n",
       "    </tr>\n",
       "  </thead>\n",
       "  <tbody>\n",
       "    <tr>\n",
       "      <th>0</th>\n",
       "      <td>0</td>\n",
       "      <td>is upset that he can't update his Facebook by ...</td>\n",
       "    </tr>\n",
       "    <tr>\n",
       "      <th>1</th>\n",
       "      <td>0</td>\n",
       "      <td>@Kenichan I dived many times for the ball. Man...</td>\n",
       "    </tr>\n",
       "  </tbody>\n",
       "</table>\n",
       "</div>"
      ],
      "text/plain": [
       "   polarity of tweet                                  text of the tweet\n",
       "0                  0  is upset that he can't update his Facebook by ...\n",
       "1                  0  @Kenichan I dived many times for the ball. Man..."
      ]
     },
     "execution_count": 20,
     "metadata": {},
     "output_type": "execute_result"
    }
   ],
   "source": [
    "df.head(2)"
   ]
  },
  {
   "cell_type": "code",
   "execution_count": 21,
   "id": "f1c54e91-af4e-45ee-be78-7a7e7ae77c30",
   "metadata": {},
   "outputs": [],
   "source": [
    "import nltk"
   ]
  },
  {
   "cell_type": "code",
   "execution_count": 22,
   "id": "f75ee968-382b-450d-a5ff-f0162b843a1d",
   "metadata": {},
   "outputs": [
    {
     "data": {
      "text/plain": [
       "'@Kenichan I dived many times for the ball. Managed to save 50%  The rest go out of bounds'"
      ]
     },
     "execution_count": 22,
     "metadata": {},
     "output_type": "execute_result"
    }
   ],
   "source": [
    "df['text of the tweet'][1]"
   ]
  },
  {
   "cell_type": "code",
   "execution_count": 23,
   "id": "bd0d60be-6901-438d-acc5-fe61e3b45aa1",
   "metadata": {},
   "outputs": [
    {
     "name": "stderr",
     "output_type": "stream",
     "text": [
      "[nltk_data] Downloading package stopwords to C:\\Users\\ROHIT\n",
      "[nltk_data]     MOTWANI\\AppData\\Roaming\\nltk_data...\n",
      "[nltk_data]   Package stopwords is already up-to-date!\n"
     ]
    },
    {
     "data": {
      "text/plain": [
       "True"
      ]
     },
     "execution_count": 23,
     "metadata": {},
     "output_type": "execute_result"
    }
   ],
   "source": [
    "nltk.download('stopwords')"
   ]
  },
  {
   "cell_type": "code",
   "execution_count": 24,
   "id": "624a51b1-29d2-4c1c-94a0-d12b7a89037c",
   "metadata": {},
   "outputs": [
    {
     "name": "stdout",
     "output_type": "stream",
     "text": [
      "['i', 'me', 'my', 'myself', 'we', 'our', 'ours', 'ourselves', 'you', \"you're\", \"you've\", \"you'll\", \"you'd\", 'your', 'yours', 'yourself', 'yourselves', 'he', 'him', 'his', 'himself', 'she', \"she's\", 'her', 'hers', 'herself', 'it', \"it's\", 'its', 'itself', 'they', 'them', 'their', 'theirs', 'themselves', 'what', 'which', 'who', 'whom', 'this', 'that', \"that'll\", 'these', 'those', 'am', 'is', 'are', 'was', 'were', 'be', 'been', 'being', 'have', 'has', 'had', 'having', 'do', 'does', 'did', 'doing', 'a', 'an', 'the', 'and', 'but', 'if', 'or', 'because', 'as', 'until', 'while', 'of', 'at', 'by', 'for', 'with', 'about', 'against', 'between', 'into', 'through', 'during', 'before', 'after', 'above', 'below', 'to', 'from', 'up', 'down', 'in', 'out', 'on', 'off', 'over', 'under', 'again', 'further', 'then', 'once', 'here', 'there', 'when', 'where', 'why', 'how', 'all', 'any', 'both', 'each', 'few', 'more', 'most', 'other', 'some', 'such', 'no', 'nor', 'not', 'only', 'own', 'same', 'so', 'than', 'too', 'very', 's', 't', 'can', 'will', 'just', 'don', \"don't\", 'should', \"should've\", 'now', 'd', 'll', 'm', 'o', 're', 've', 'y', 'ain', 'aren', \"aren't\", 'couldn', \"couldn't\", 'didn', \"didn't\", 'doesn', \"doesn't\", 'hadn', \"hadn't\", 'hasn', \"hasn't\", 'haven', \"haven't\", 'isn', \"isn't\", 'ma', 'mightn', \"mightn't\", 'mustn', \"mustn't\", 'needn', \"needn't\", 'shan', \"shan't\", 'shouldn', \"shouldn't\", 'wasn', \"wasn't\", 'weren', \"weren't\", 'won', \"won't\", 'wouldn', \"wouldn't\"]\n"
     ]
    }
   ],
   "source": [
    "from nltk.corpus import stopwords\n",
    "print(stopwords.words('english'))"
   ]
  },
  {
   "cell_type": "code",
   "execution_count": 25,
   "id": "a108e438-2b01-4cd3-827d-2dfe73c86eb5",
   "metadata": {},
   "outputs": [
    {
     "name": "stdout",
     "output_type": "stream",
     "text": [
      "179\n",
      "not\n",
      "don't\n",
      "aren't\n",
      "couldn't\n",
      "didn't\n",
      "doesn't\n",
      "hadn't\n",
      "hasn't\n",
      "haven't\n",
      "isn't\n",
      "mightn't\n",
      "mustn't\n",
      "needn't\n",
      "shan't\n",
      "shouldn't\n",
      "wasn't\n",
      "weren't\n",
      "won't\n",
      "wouldn't\n"
     ]
    }
   ],
   "source": [
    "removed = []\n",
    "stopword = stopwords.words('english')\n",
    "print(len(stopword))\n",
    "for i in stopword:\n",
    "    if \"n't\" in i:\n",
    "        # print(i)\n",
    "        removed.append(i)\n",
    "    if i == \"not\":\n",
    "        # print(i)\n",
    "        removed.append(i)\n",
    "for i in removed:\n",
    "    print(i)"
   ]
  },
  {
   "cell_type": "code",
   "execution_count": 26,
   "id": "4d74cfea-4316-4144-83b3-f34fcda93d21",
   "metadata": {},
   "outputs": [],
   "source": [
    "for i in removed:\n",
    "    stopword.remove(i)"
   ]
  },
  {
   "cell_type": "code",
   "execution_count": 27,
   "id": "3eb9854e-0dc4-486c-9510-1549c5b3b912",
   "metadata": {},
   "outputs": [
    {
     "name": "stdout",
     "output_type": "stream",
     "text": [
      "['i', 'me', 'my', 'myself', 'we', 'our', 'ours', 'ourselves', 'you', \"you're\", \"you've\", \"you'll\", \"you'd\", 'your', 'yours', 'yourself', 'yourselves', 'he', 'him', 'his', 'himself', 'she', \"she's\", 'her', 'hers', 'herself', 'it', \"it's\", 'its', 'itself', 'they', 'them', 'their', 'theirs', 'themselves', 'what', 'which', 'who', 'whom', 'this', 'that', \"that'll\", 'these', 'those', 'am', 'is', 'are', 'was', 'were', 'be', 'been', 'being', 'have', 'has', 'had', 'having', 'do', 'does', 'did', 'doing', 'a', 'an', 'the', 'and', 'but', 'if', 'or', 'because', 'as', 'until', 'while', 'of', 'at', 'by', 'for', 'with', 'about', 'against', 'between', 'into', 'through', 'during', 'before', 'after', 'above', 'below', 'to', 'from', 'up', 'down', 'in', 'out', 'on', 'off', 'over', 'under', 'again', 'further', 'then', 'once', 'here', 'there', 'when', 'where', 'why', 'how', 'all', 'any', 'both', 'each', 'few', 'more', 'most', 'other', 'some', 'such', 'no', 'nor', 'only', 'own', 'same', 'so', 'than', 'too', 'very', 's', 't', 'can', 'will', 'just', 'don', 'should', \"should've\", 'now', 'd', 'll', 'm', 'o', 're', 've', 'y', 'ain', 'aren', 'couldn', 'didn', 'doesn', 'hadn', 'hasn', 'haven', 'isn', 'ma', 'mightn', 'mustn', 'needn', 'shan', 'shouldn', 'wasn', 'weren', 'won', 'wouldn']\n",
      "160\n"
     ]
    }
   ],
   "source": [
    "print(stopword)\n",
    "print(len(stopword))"
   ]
  },
  {
   "cell_type": "code",
   "execution_count": 28,
   "id": "36995256-fae1-4613-9e92-be44be9009ad",
   "metadata": {},
   "outputs": [
    {
     "name": "stderr",
     "output_type": "stream",
     "text": [
      "[nltk_data] Downloading package wordnet to C:\\Users\\ROHIT\n",
      "[nltk_data]     MOTWANI\\AppData\\Roaming\\nltk_data...\n",
      "[nltk_data]   Package wordnet is already up-to-date!\n"
     ]
    },
    {
     "data": {
      "text/plain": [
       "True"
      ]
     },
     "execution_count": 28,
     "metadata": {},
     "output_type": "execute_result"
    }
   ],
   "source": [
    "nltk.download('wordnet')"
   ]
  },
  {
   "cell_type": "code",
   "execution_count": 29,
   "id": "e328e4b9-f8d8-4a7a-9a1f-5bc5c2159c48",
   "metadata": {},
   "outputs": [
    {
     "data": {
      "text/plain": [
       "Index(['polarity of tweet', 'text of the tweet'], dtype='object')"
      ]
     },
     "execution_count": 29,
     "metadata": {},
     "output_type": "execute_result"
    }
   ],
   "source": [
    "df.columns\n"
   ]
  },
  {
   "cell_type": "code",
   "execution_count": 58,
   "id": "410ad80f-e782-4932-ad4f-6a0a8fd16afb",
   "metadata": {},
   "outputs": [],
   "source": [
    "import re\n",
    "from nltk.stem import WordNetLemmatizer\n",
    "lemmatizer = WordNetLemmatizer()\n",
    "def preprocess(content):\n",
    "    # sentence = nltk.sent_tokenize(i)\n",
    "    sentence = re.sub(r'[^a-zA-Z\\']',' ',content)\n",
    "    sentence = re.sub(r'\\s+', ' ', sentence).strip()\n",
    "    sentence = sentence.lower()\n",
    "    # sentence = nltk.word_tokenize(sentence)\n",
    "    sentence = sentence.split()\n",
    "    sentence = [lemmatizer.lemmatize(word) for word in sentence if not word in stopword]\n",
    "    sentence = ' '.join(sentence)\n",
    "    return sentence"
   ]
  },
  {
   "cell_type": "code",
   "execution_count": 59,
   "id": "63241869-9a0c-475c-8017-01cfba4e2350",
   "metadata": {},
   "outputs": [],
   "source": [
    "df['preprocess_data'] = df['text of the tweet'].apply(preprocess)"
   ]
  },
  {
   "cell_type": "code",
   "execution_count": 60,
   "id": "892e7be9-0fd3-4523-885a-4258a20b99dd",
   "metadata": {},
   "outputs": [
    {
     "data": {
      "text/html": [
       "<div>\n",
       "<style scoped>\n",
       "    .dataframe tbody tr th:only-of-type {\n",
       "        vertical-align: middle;\n",
       "    }\n",
       "\n",
       "    .dataframe tbody tr th {\n",
       "        vertical-align: top;\n",
       "    }\n",
       "\n",
       "    .dataframe thead th {\n",
       "        text-align: right;\n",
       "    }\n",
       "</style>\n",
       "<table border=\"1\" class=\"dataframe\">\n",
       "  <thead>\n",
       "    <tr style=\"text-align: right;\">\n",
       "      <th></th>\n",
       "      <th>polarity of tweet</th>\n",
       "      <th>text of the tweet</th>\n",
       "      <th>preprocess_data</th>\n",
       "    </tr>\n",
       "  </thead>\n",
       "  <tbody>\n",
       "    <tr>\n",
       "      <th>0</th>\n",
       "      <td>0</td>\n",
       "      <td>is upset that he can't update his Facebook by ...</td>\n",
       "      <td>upset can't update facebook texting might cry ...</td>\n",
       "    </tr>\n",
       "    <tr>\n",
       "      <th>1</th>\n",
       "      <td>0</td>\n",
       "      <td>@Kenichan I dived many times for the ball. Man...</td>\n",
       "      <td>kenichan dived many time ball managed save res...</td>\n",
       "    </tr>\n",
       "    <tr>\n",
       "      <th>2</th>\n",
       "      <td>0</td>\n",
       "      <td>my whole body feels itchy and like its on fire</td>\n",
       "      <td>whole body feel itchy like fire</td>\n",
       "    </tr>\n",
       "    <tr>\n",
       "      <th>3</th>\n",
       "      <td>0</td>\n",
       "      <td>@nationwideclass no, it's not behaving at all....</td>\n",
       "      <td>nationwideclass not behaving i'm mad can't see</td>\n",
       "    </tr>\n",
       "    <tr>\n",
       "      <th>4</th>\n",
       "      <td>0</td>\n",
       "      <td>@Kwesidei not the whole crew</td>\n",
       "      <td>kwesidei not whole crew</td>\n",
       "    </tr>\n",
       "  </tbody>\n",
       "</table>\n",
       "</div>"
      ],
      "text/plain": [
       "   polarity of tweet                                  text of the tweet  \\\n",
       "0                  0  is upset that he can't update his Facebook by ...   \n",
       "1                  0  @Kenichan I dived many times for the ball. Man...   \n",
       "2                  0    my whole body feels itchy and like its on fire    \n",
       "3                  0  @nationwideclass no, it's not behaving at all....   \n",
       "4                  0                      @Kwesidei not the whole crew    \n",
       "\n",
       "                                     preprocess_data  \n",
       "0  upset can't update facebook texting might cry ...  \n",
       "1  kenichan dived many time ball managed save res...  \n",
       "2                    whole body feel itchy like fire  \n",
       "3     nationwideclass not behaving i'm mad can't see  \n",
       "4                            kwesidei not whole crew  "
      ]
     },
     "execution_count": 60,
     "metadata": {},
     "output_type": "execute_result"
    }
   ],
   "source": [
    "df.head()"
   ]
  },
  {
   "cell_type": "code",
   "execution_count": 61,
   "id": "f93cd612-9d76-4bf1-9ea9-ed7c602202ee",
   "metadata": {},
   "outputs": [
    {
     "data": {
      "text/plain": [
       "\"upset can't update facebook texting might cry result school today also blah\""
      ]
     },
     "execution_count": 61,
     "metadata": {},
     "output_type": "execute_result"
    }
   ],
   "source": [
    "df['preprocess_data'][0]"
   ]
  },
  {
   "cell_type": "code",
   "execution_count": 62,
   "id": "f77750c4-379b-48ba-9816-9de47f820369",
   "metadata": {},
   "outputs": [
    {
     "data": {
      "text/plain": [
       "\"is upset that he can't update his Facebook by texting it... and might cry as a result  School today also. Blah!\""
      ]
     },
     "execution_count": 62,
     "metadata": {},
     "output_type": "execute_result"
    }
   ],
   "source": [
    "df['text of the tweet'][0]"
   ]
  },
  {
   "cell_type": "code",
   "execution_count": 63,
   "id": "35c928ec-2f52-476c-8229-e58c8fabe1fd",
   "metadata": {},
   "outputs": [],
   "source": [
    "from sklearn.feature_extraction.text import TfidfVectorizer\n",
    "cv = TfidfVectorizer()\n",
    "x = cv.fit_transform(df['preprocess_data'])\n",
    "# x1 = cv.transform(df['preprocess_data']) # for test set"
   ]
  },
  {
   "cell_type": "code",
   "execution_count": 64,
   "id": "a5cbd751-136d-4c17-8e19-7ce572fcf001",
   "metadata": {},
   "outputs": [],
   "source": [
    "# independent feature and target variable\n",
    "X = x\n",
    "Y = df['polarity of tweet'].values"
   ]
  },
  {
   "cell_type": "code",
   "execution_count": null,
   "id": "13fd2915-d5ab-4623-8cf3-2f3ce6f8e44a",
   "metadata": {},
   "outputs": [],
   "source": [
    "# Implementing Oversampling for Handling Imbalanced \n",
    "from imblearn.combine import SMOTETomek\n",
    "smk = SMOTETomek(random_state=42)\n",
    "X_res,y_res=smk.fit_resample(X,Y)\n"
   ]
  },
  {
   "cell_type": "code",
   "execution_count": null,
   "id": "8b930527-1633-46b3-87cb-dddfab04ddc1",
   "metadata": {},
   "outputs": [],
   "source": [
    "from collections import Counter\n",
    "print('Original dataset shape {}'.format(Counter(Y)))\n",
    "print('Resampled dataset shape {}'.format(Counter(y_res)))"
   ]
  },
  {
   "cell_type": "code",
   "execution_count": null,
   "id": "46ca6d3a-4e0f-4a8d-bf6c-2d431e473919",
   "metadata": {},
   "outputs": [],
   "source": [
    "## split train and test data\n",
    "X_train,X_test,Y_train,Y_test = train_test_split(X_res,Y_res,test_size=0.2,stratify=Y,random_state=2)"
   ]
  },
  {
   "cell_type": "code",
   "execution_count": null,
   "id": "5582d389-0c88-4175-b0ca-f5559b882c3a",
   "metadata": {},
   "outputs": [],
   "source": [
    "from tensorflow.keras.layers import Embedding \n",
    "from tensorflow.keras.preprocessing.sequence import pad_sequence\n",
    "from tensorflow.keras.models import Sequential\n",
    "sent_length = \n",
    "embedded_docs = pad_sequences(cv,padding ='pre',maxlen=sent_length)"
   ]
  },
  {
   "cell_type": "code",
   "execution_count": null,
   "id": "dbfd2e20-4b95-4b74-9dcc-31f9d343f998",
   "metadata": {},
   "outputs": [],
   "source": [
    "# Step 4: Build LSTM model\n",
    "model = tf.keras.Sequential([\n",
    "    tf.keras.layers.Embedding(input_dim=vocab_size, output_dim=embedding_dim, input_length=max_length),\n",
    "    tf.keras.layers.LSTM(units=64, return_sequences=True),\n",
    "    tf.keras.layers.Dropout(0.2),\n",
    "    tf.keras.layers.LSTM(units=32),\n",
    "    tf.keras.layers.Dense(2, activation='sigmoid')\n",
    "])\n",
    "\n",
    "# Compile model\n",
    "model.compile(loss='binary_crossentropy', optimizer='adam', metrics=['accuracy'])\n",
    "\n",
    "# Step 5: Train the model\n",
    "history = model.fit(X_train, y_train, epochs=20, validation_data=(X_test, y_test))\n",
    "\n",
    "# Step 6: Plot validation loss\n",
    "plt.plot(history.history['val_loss'])\n",
    "plt.xlabel('Epochs')\n",
    "plt.ylabel('Validation Loss')\n",
    "plt.title('Validation Loss over Epochs')\n",
    "plt.show()\n",
    "\n",
    "# Step 7: Prediction with test set\n",
    "# predictions = model.predict(X_test)"
   ]
  }
 ],
 "metadata": {
  "kernelspec": {
   "display_name": "Python 3 (ipykernel)",
   "language": "python",
   "name": "python3"
  },
  "language_info": {
   "codemirror_mode": {
    "name": "ipython",
    "version": 3
   },
   "file_extension": ".py",
   "mimetype": "text/x-python",
   "name": "python",
   "nbconvert_exporter": "python",
   "pygments_lexer": "ipython3",
   "version": "3.11.5"
  }
 },
 "nbformat": 4,
 "nbformat_minor": 5
}
